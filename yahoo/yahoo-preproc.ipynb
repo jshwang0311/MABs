{
 "cells": [
  {
   "cell_type": "code",
   "execution_count": 1,
   "metadata": {},
   "outputs": [
    {
     "data": {
      "text/plain": [
       "'/Users/1112480/Study/MABs/yahoo'"
      ]
     },
     "execution_count": 1,
     "metadata": {},
     "output_type": "execute_result"
    }
   ],
   "source": [
    "import os\n",
    "current_dir = os.getcwd()\n",
    "current_dir"
   ]
  },
  {
   "cell_type": "code",
   "execution_count": 2,
   "metadata": {},
   "outputs": [],
   "source": [
    "data_path = '../../data/R6'"
   ]
  },
  {
   "cell_type": "code",
   "execution_count": 3,
   "metadata": {},
   "outputs": [],
   "source": [
    "import numpy as np\n",
    "import pandas as pd\n",
    "import math\n",
    "from sklearn.metrics.pairwise import rbf_kernel\n",
    "from sklearn.decomposition import PCA, TruncatedSVD\n",
    "import networkx as nx\n",
    "\n",
    "import matplotlib.pyplot as plt\n",
    "from matplotlib import style\n",
    "style.use(\"ggplot\")\n",
    "\n",
    "from scipy import sparse as sp"
   ]
  },
  {
   "cell_type": "code",
   "execution_count": 4,
   "metadata": {},
   "outputs": [],
   "source": [
    "#function for extracting information from each row of Yahoo data\n",
    "\n",
    "def extract2(row):\n",
    "    row=row[0].split(' ')\n",
    "    if (len(row)-10)%7!=0:\n",
    "        findex=row.index('7:1.000000')\n",
    "        row.pop(findex-1)\n",
    "        row.remove('7:1.000000')\n",
    "    action_v=int(row[1])\n",
    "    reward=int(row[2])\n",
    "    user_feature=[float(row[j][2:]) for j in range(4,10)][:5]\n",
    "    N=int((len(row)-10)/7)\n",
    "    articles=[]\n",
    "    item_features=[]\n",
    "    for k in range(N):\n",
    "        articles=articles+[int(row[10+k*7][1:])]\n",
    "        article_f=[float(row[j][2:]) for j in range(11+k*7,11+(k+1)*7-1)]\n",
    "        item_features.append(article_f[:5])\n",
    "    if action_v in articles:\n",
    "        action_i=articles.index(action_v)\n",
    "    else:\n",
    "        action_i='no matching article'\n",
    "    return({'action_ind':action_i, 'reward':reward, 'user_feature':user_feature, 'item_features':item_features,'arm_num':N})  "
   ]
  },
  {
   "cell_type": "code",
   "execution_count": 5,
   "metadata": {},
   "outputs": [],
   "source": [
    "# import Yahoo data\n",
    "df_raw = pd.read_csv(os.path.join(data_path,'ydata-fp-td-clicks-v1_0.20090501.gz'), compression='gzip', header=0, sep=',', quotechar='\"')\n",
    "data_raw = np.array(df_raw)"
   ]
  },
  {
   "cell_type": "code",
   "execution_count": 8,
   "metadata": {},
   "outputs": [
    {
     "name": "stdout",
     "output_type": "stream",
     "text": [
      "(4681991, 5)\n"
     ]
    }
   ],
   "source": [
    "# extract user information\n",
    "\n",
    "history_users = np.array([ extract2(data_raw[i])['user_feature'] for i in range(data_raw.shape[0])  ])\n",
    "print(history_users.shape)\n"
   ]
  },
  {
   "cell_type": "code",
   "execution_count": 9,
   "metadata": {},
   "outputs": [],
   "source": [
    "history_users = pd.DataFrame(history_users)"
   ]
  },
  {
   "cell_type": "code",
   "execution_count": 10,
   "metadata": {},
   "outputs": [],
   "source": [
    "history_users['roundID'] = np.arange(history_users.shape[0])\n"
   ]
  },
  {
   "cell_type": "code",
   "execution_count": 11,
   "metadata": {},
   "outputs": [
    {
     "name": "stderr",
     "output_type": "stream",
     "text": [
      "/Users/1112480/opt/miniconda3/envs/ws3_8/lib/python3.8/site-packages/pandas/core/frame.py:6250: FutureWarning: In a future version, the Index constructor will not infer numeric dtypes when passed object-dtype sequences (matching Series behavior)\n",
      "  diff = Index(subset).difference(self.columns)\n"
     ]
    }
   ],
   "source": [
    "# extract unique users\n",
    "df_users = history_users[ [0,1,2,3,4] ].drop_duplicates()"
   ]
  },
  {
   "cell_type": "code",
   "execution_count": 12,
   "metadata": {},
   "outputs": [
    {
     "name": "stdout",
     "output_type": "stream",
     "text": [
      "(3284134, 5)\n",
      "                0         1         2         3         4   userID\n",
      "0        0.088932  0.003915  0.592269  0.314084  0.000801        0\n",
      "1        0.000293  0.000002  0.000411  0.000770  0.998524        1\n",
      "2        0.011889  0.863387  0.000385  0.124338  0.000001        2\n",
      "3        0.000054  0.000002  0.000022  0.000087  0.999835        3\n",
      "4        0.000403  0.000009  0.000109  0.000288  0.999191        4\n",
      "...           ...       ...       ...       ...       ...      ...\n",
      "4681986  0.000963  0.000001  0.006049  0.000674  0.992312  3284129\n",
      "4681987  0.025497  0.000146  0.066751  0.038620  0.868985  3284130\n",
      "4681988  0.103932  0.836199  0.000203  0.059307  0.000359  3284131\n",
      "4681989  0.327085  0.076663  0.083707  0.510996  0.001549  3284132\n",
      "4681990  0.058959  0.000292  0.878861  0.061729  0.000159  3284133\n",
      "\n",
      "[3284134 rows x 6 columns]\n"
     ]
    }
   ],
   "source": [
    "# make user ID\n",
    "print(df_users.shape)\n",
    "df_users['userID'] = np.arange(df_users.shape[0])\n",
    "print(df_users)"
   ]
  },
  {
   "cell_type": "code",
   "execution_count": 14,
   "metadata": {},
   "outputs": [
    {
     "data": {
      "text/html": [
       "<div>\n",
       "<style scoped>\n",
       "    .dataframe tbody tr th:only-of-type {\n",
       "        vertical-align: middle;\n",
       "    }\n",
       "\n",
       "    .dataframe tbody tr th {\n",
       "        vertical-align: top;\n",
       "    }\n",
       "\n",
       "    .dataframe thead th {\n",
       "        text-align: right;\n",
       "    }\n",
       "</style>\n",
       "<table border=\"1\" class=\"dataframe\">\n",
       "  <thead>\n",
       "    <tr style=\"text-align: right;\">\n",
       "      <th></th>\n",
       "      <th>0</th>\n",
       "      <th>1</th>\n",
       "      <th>2</th>\n",
       "      <th>3</th>\n",
       "      <th>4</th>\n",
       "      <th>roundID</th>\n",
       "    </tr>\n",
       "  </thead>\n",
       "  <tbody>\n",
       "    <tr>\n",
       "      <th>0</th>\n",
       "      <td>0.088932</td>\n",
       "      <td>0.003915</td>\n",
       "      <td>0.592269</td>\n",
       "      <td>0.314084</td>\n",
       "      <td>0.000801</td>\n",
       "      <td>0</td>\n",
       "    </tr>\n",
       "    <tr>\n",
       "      <th>1</th>\n",
       "      <td>0.000293</td>\n",
       "      <td>0.000002</td>\n",
       "      <td>0.000411</td>\n",
       "      <td>0.000770</td>\n",
       "      <td>0.998524</td>\n",
       "      <td>1</td>\n",
       "    </tr>\n",
       "    <tr>\n",
       "      <th>2</th>\n",
       "      <td>0.011889</td>\n",
       "      <td>0.863387</td>\n",
       "      <td>0.000385</td>\n",
       "      <td>0.124338</td>\n",
       "      <td>0.000001</td>\n",
       "      <td>2</td>\n",
       "    </tr>\n",
       "    <tr>\n",
       "      <th>3</th>\n",
       "      <td>0.000054</td>\n",
       "      <td>0.000002</td>\n",
       "      <td>0.000022</td>\n",
       "      <td>0.000087</td>\n",
       "      <td>0.999835</td>\n",
       "      <td>3</td>\n",
       "    </tr>\n",
       "    <tr>\n",
       "      <th>4</th>\n",
       "      <td>0.000403</td>\n",
       "      <td>0.000009</td>\n",
       "      <td>0.000109</td>\n",
       "      <td>0.000288</td>\n",
       "      <td>0.999191</td>\n",
       "      <td>4</td>\n",
       "    </tr>\n",
       "  </tbody>\n",
       "</table>\n",
       "</div>"
      ],
      "text/plain": [
       "          0         1         2         3         4  roundID\n",
       "0  0.088932  0.003915  0.592269  0.314084  0.000801        0\n",
       "1  0.000293  0.000002  0.000411  0.000770  0.998524        1\n",
       "2  0.011889  0.863387  0.000385  0.124338  0.000001        2\n",
       "3  0.000054  0.000002  0.000022  0.000087  0.999835        3\n",
       "4  0.000403  0.000009  0.000109  0.000288  0.999191        4"
      ]
     },
     "execution_count": 14,
     "metadata": {},
     "output_type": "execute_result"
    }
   ],
   "source": [
    "pd.DataFrame(history_users).head()"
   ]
  },
  {
   "cell_type": "code",
   "execution_count": 15,
   "metadata": {},
   "outputs": [],
   "source": [
    "history_users_with_id = history_users.merge(df_users, on=[0, 1, 2, 3, 4], how=\"outer\")"
   ]
  },
  {
   "cell_type": "code",
   "execution_count": 16,
   "metadata": {},
   "outputs": [],
   "source": [
    "history_users_with_id = history_users_with_id.sort_values(by=['roundID'])"
   ]
  },
  {
   "cell_type": "code",
   "execution_count": 17,
   "metadata": {},
   "outputs": [
    {
     "name": "stdout",
     "output_type": "stream",
     "text": [
      "                0         1         2         3         4  roundID   userID\n",
      "0        0.088932  0.003915  0.592269  0.314084  0.000801        0        0\n",
      "1        0.000293  0.000002  0.000411  0.000770  0.998524        1        1\n",
      "2        0.011889  0.863387  0.000385  0.124338  0.000001        2        2\n",
      "4        0.000054  0.000002  0.000022  0.000087  0.999835        3        3\n",
      "5        0.000403  0.000009  0.000109  0.000288  0.999191        4        4\n",
      "...           ...       ...       ...       ...       ...      ...      ...\n",
      "4681986  0.000963  0.000001  0.006049  0.000674  0.992312  4681986  3284129\n",
      "4681987  0.025497  0.000146  0.066751  0.038620  0.868985  4681987  3284130\n",
      "4681988  0.103932  0.836199  0.000203  0.059307  0.000359  4681988  3284131\n",
      "4681989  0.327085  0.076663  0.083707  0.510996  0.001549  4681989  3284132\n",
      "4681990  0.058959  0.000292  0.878861  0.061729  0.000159  4681990  3284133\n",
      "\n",
      "[4681991 rows x 7 columns]\n"
     ]
    }
   ],
   "source": [
    "print(history_users_with_id)"
   ]
  },
  {
   "cell_type": "code",
   "execution_count": 18,
   "metadata": {},
   "outputs": [],
   "source": [
    "user_freqs = history_users_with_id['userID'].value_counts(normalize=False,sort=True)\n",
    "user_freqs_IDs = np.array(list(user_freqs.index))\n",
    "user_freqs = np.array(user_freqs)"
   ]
  },
  {
   "cell_type": "code",
   "execution_count": 19,
   "metadata": {},
   "outputs": [
    {
     "data": {
      "text/plain": [
       "array([78683, 47010, 33305, ...,     1,     1,     1])"
      ]
     },
     "execution_count": 19,
     "metadata": {},
     "output_type": "execute_result"
    }
   ],
   "source": [
    "user_freqs"
   ]
  },
  {
   "cell_type": "code",
   "execution_count": 20,
   "metadata": {},
   "outputs": [],
   "source": [
    "#extract user IDs which appear more than 50 times\n",
    "\n",
    "USER_THRESHOLD = 50\n",
    "USER_NUM = sum( user_freqs >= USER_THRESHOLD )\n",
    "user_top_IDs = user_freqs_IDs[:USER_NUM]"
   ]
  },
  {
   "cell_type": "code",
   "execution_count": 21,
   "metadata": {},
   "outputs": [
    {
     "name": "stdout",
     "output_type": "stream",
     "text": [
      "               0         1         2         3         4  roundID  userID\n",
      "69      0.000069  0.000002  0.000009  0.000043  0.999876       20      20\n",
      "10116   0.010609  0.000910  0.008778  0.055681  0.924022       24      24\n",
      "10894   0.519539  0.062237  0.058665  0.353326  0.006234       27      27\n",
      "13215   0.009571  0.000864  0.001399  0.009514  0.978653       28      28\n",
      "13782   0.000494  0.000015  0.000084  0.000416  0.998991       29      29\n",
      "...          ...       ...       ...       ...       ...      ...     ...\n",
      "399860  0.258297  0.001773  0.658313  0.079241  0.002376  4681967     374\n",
      "457014  0.605156  0.077316  0.029215  0.270011  0.018302  4681977     463\n",
      "457015  0.605156  0.077316  0.029215  0.270011  0.018302  4681980     463\n",
      "312998  0.664068  0.073064  0.041332  0.212738  0.008798  4681984     213\n",
      "174618  0.007116  0.000410  0.001595  0.009283  0.981597  4681985     108\n",
      "\n",
      "[877969 rows x 7 columns]\n",
      "(877969, 7)\n",
      "(835, 7)\n",
      "          0         1         2         3         4  userID   freq\n",
      "0  0.000069  0.000002  0.000009  0.000043  0.999876      20  10042\n",
      "1  0.010609  0.000910  0.008778  0.055681  0.924022      24    773\n",
      "2  0.519539  0.062237  0.058665  0.353326  0.006234      27   2321\n",
      "3  0.009571  0.000864  0.001399  0.009514  0.978653      28    567\n",
      "4  0.000494  0.000015  0.000084  0.000416  0.998991      29   3094\n"
     ]
    }
   ],
   "source": [
    "history_users_with_id_reduced = history_users_with_id.loc[np.isin(history_users_with_id['userID'], user_top_IDs)]\n",
    "print(history_users_with_id_reduced)\n",
    "print(history_users_with_id_reduced.shape)\n",
    "df_users_reduced = df_users.loc[np.isin(df_users['userID'], user_top_IDs)]\n",
    "metadata_users_reduced = df_users_reduced.merge(pd.DataFrame({'userID':user_freqs_IDs, 'freq':user_freqs}), on='userID', how=\"inner\" )\n",
    "print(metadata_users_reduced.shape )\n",
    "print(metadata_users_reduced.head())"
   ]
  },
  {
   "cell_type": "code",
   "execution_count": null,
   "metadata": {},
   "outputs": [],
   "source": [
    "real_data_dir = current_dir + \"/\" + \"preproc_output\"\n",
    "\n",
    "if not os.path.exists(real_data_dir):\n",
    "    os.makedirs(real_data_dir)"
   ]
  },
  {
   "cell_type": "code",
   "execution_count": null,
   "metadata": {},
   "outputs": [],
   "source": [
    "history_users_with_id_reduced.to_csv(real_data_dir+'/history_users_thr'+str(USER_THRESHOLD)+'_1.csv')\n",
    "metadata_users_reduced.to_csv(real_data_dir+'/metadata_users_thr'+str(USER_THRESHOLD)+'.csv')"
   ]
  },
  {
   "cell_type": "code",
   "execution_count": 22,
   "metadata": {},
   "outputs": [],
   "source": [
    "# create laplacian matrix based on distance and RBF kernel\n",
    "rbfmat = rbf_kernel( np.array(metadata_users_reduced)[:,:5] , gamma = 5) "
   ]
  },
  {
   "cell_type": "code",
   "execution_count": 23,
   "metadata": {},
   "outputs": [
    {
     "data": {
      "text/plain": [
       "0.5032249273907275"
      ]
     },
     "execution_count": 23,
     "metadata": {},
     "output_type": "execute_result"
    }
   ],
   "source": [
    "(rbfmat > 0.03).sum() / metadata_users_reduced.shape[0]**2"
   ]
  },
  {
   "cell_type": "code",
   "execution_count": null,
   "metadata": {},
   "outputs": [],
   "source": [
    "np.save(real_data_dir+\"/adjmtx_thr50_sp50percent.npy\", (rbfmat > 0.03).astype(int))"
   ]
  },
  {
   "cell_type": "code",
   "execution_count": null,
   "metadata": {},
   "outputs": [],
   "source": [
    "for i in range(2,11):\n",
    "    if i<10:\n",
    "        file='ydata-fp-td-clicks-v1_0.2009050'+str(i)+'.gz'\n",
    "    else:\n",
    "        file='ydata-fp-td-clicks-v1_0.200905'+str(i)+'.gz'\n",
    "\n",
    "    df_raw = pd.read_csv(file, compression='gzip', header=0, sep=',', quotechar='\"')\n",
    "\n",
    "    data_raw = np.array(df_raw)\n",
    "\n",
    "    history_users = np.array([ extract2(data_raw[i])['user_feature'] for i in range(data_raw.shape[0])  ])\n",
    "\n",
    "    history_users = pd.DataFrame(history_users)\n",
    "\n",
    "    history_users['roundID'] = np.arange(history_users.shape[0])\n",
    "\n",
    "    history_users_with_id = history_users.merge(df_users, on=[0, 1, 2, 3, 4], how=\"outer\")\n",
    "\n",
    "    history_users_with_id = history_users_with_id.sort_values(by=['roundID'])\n",
    "\n",
    "    history_users_with_id_reduced = history_users_with_id.loc[np.isin(history_users_with_id['userID'], user_top_IDs)]\n",
    "\n",
    "    history_users_with_id_reduced.to_csv(real_data_dir+'/history_users_thr'+str(USER_THRESHOLD)+'_'+str(i)+'.csv')"
   ]
  }
 ],
 "metadata": {
  "kernelspec": {
   "display_name": "Python 3 (ipykernel)",
   "language": "python",
   "name": "python3"
  },
  "language_info": {
   "codemirror_mode": {
    "name": "ipython",
    "version": 3
   },
   "file_extension": ".py",
   "mimetype": "text/x-python",
   "name": "python",
   "nbconvert_exporter": "python",
   "pygments_lexer": "ipython3",
   "version": "3.8.0"
  }
 },
 "nbformat": 4,
 "nbformat_minor": 4
}
