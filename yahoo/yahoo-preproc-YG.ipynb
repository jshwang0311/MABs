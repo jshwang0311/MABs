{
 "cells": [
  {
   "cell_type": "code",
   "execution_count": 1,
   "metadata": {},
   "outputs": [
    {
     "data": {
      "text/plain": [
       "'/Users/1112480/Study/MABs/yahoo'"
      ]
     },
     "execution_count": 1,
     "metadata": {},
     "output_type": "execute_result"
    }
   ],
   "source": [
    "import os\n",
    "current_dir = os.getcwd()\n",
    "current_dir"
   ]
  },
  {
   "cell_type": "code",
   "execution_count": 2,
   "metadata": {},
   "outputs": [
    {
     "ename": "ModuleNotFoundError",
     "evalue": "No module named 'networkx'",
     "output_type": "error",
     "traceback": [
      "\u001b[0;31m---------------------------------------------------------------------------\u001b[0m",
      "\u001b[0;31mModuleNotFoundError\u001b[0m                       Traceback (most recent call last)",
      "Input \u001b[0;32mIn [2]\u001b[0m, in \u001b[0;36m<module>\u001b[0;34m\u001b[0m\n\u001b[1;32m      4\u001b[0m \u001b[38;5;28;01mfrom\u001b[39;00m \u001b[38;5;21;01msklearn\u001b[39;00m\u001b[38;5;21;01m.\u001b[39;00m\u001b[38;5;21;01mmetrics\u001b[39;00m\u001b[38;5;21;01m.\u001b[39;00m\u001b[38;5;21;01mpairwise\u001b[39;00m \u001b[38;5;28;01mimport\u001b[39;00m rbf_kernel\n\u001b[1;32m      5\u001b[0m \u001b[38;5;28;01mfrom\u001b[39;00m \u001b[38;5;21;01msklearn\u001b[39;00m\u001b[38;5;21;01m.\u001b[39;00m\u001b[38;5;21;01mdecomposition\u001b[39;00m \u001b[38;5;28;01mimport\u001b[39;00m PCA, TruncatedSVD\n\u001b[0;32m----> 6\u001b[0m \u001b[38;5;28;01mimport\u001b[39;00m \u001b[38;5;21;01mnetworkx\u001b[39;00m \u001b[38;5;28;01mas\u001b[39;00m \u001b[38;5;21;01mnx\u001b[39;00m\n\u001b[1;32m      8\u001b[0m \u001b[38;5;28;01mimport\u001b[39;00m \u001b[38;5;21;01mmatplotlib\u001b[39;00m\u001b[38;5;21;01m.\u001b[39;00m\u001b[38;5;21;01mpyplot\u001b[39;00m \u001b[38;5;28;01mas\u001b[39;00m \u001b[38;5;21;01mplt\u001b[39;00m\n\u001b[1;32m      9\u001b[0m \u001b[38;5;28;01mfrom\u001b[39;00m \u001b[38;5;21;01mmatplotlib\u001b[39;00m \u001b[38;5;28;01mimport\u001b[39;00m style\n",
      "\u001b[0;31mModuleNotFoundError\u001b[0m: No module named 'networkx'"
     ]
    }
   ],
   "source": [
    "import numpy as np\n",
    "import pandas as pd\n",
    "import math\n",
    "from sklearn.metrics.pairwise import rbf_kernel\n",
    "from sklearn.decomposition import PCA, TruncatedSVD\n",
    "import networkx as nx\n",
    "\n",
    "import matplotlib.pyplot as plt\n",
    "from matplotlib import style\n",
    "style.use(\"ggplot\")\n",
    "\n",
    "from scipy import sparse as sp"
   ]
  },
  {
   "cell_type": "code",
   "execution_count": null,
   "metadata": {},
   "outputs": [],
   "source": [
    "#function for extracting information from each row of Yahoo data\n",
    "\n",
    "def extract2(row):\n",
    "    row=row[0].split(' ')\n",
    "    if (len(row)-10)%7!=0:\n",
    "        findex=row.index('7:1.000000')\n",
    "        row.pop(findex-1)\n",
    "        row.remove('7:1.000000')\n",
    "    action_v=int(row[1])\n",
    "    reward=int(row[2])\n",
    "    user_feature=[float(row[j][2:]) for j in range(4,10)][:5]\n",
    "    N=int((len(row)-10)/7)\n",
    "    articles=[]\n",
    "    item_features=[]\n",
    "    for k in range(N):\n",
    "        articles=articles+[int(row[10+k*7][1:])]\n",
    "        article_f=[float(row[j][2:]) for j in range(11+k*7,11+(k+1)*7-1)]\n",
    "        item_features.append(article_f[:5])\n",
    "    if action_v in articles:\n",
    "        action_i=articles.index(action_v)\n",
    "    else:\n",
    "        action_i='no matching article'\n",
    "    return({'action_ind':action_i, 'reward':reward, 'user_feature':user_feature, 'item_features':item_features,'arm_num':N})  "
   ]
  },
  {
   "cell_type": "code",
   "execution_count": null,
   "metadata": {},
   "outputs": [],
   "source": [
    "# import Yahoo data\n",
    "df_raw = pd.read_csv('ydata-fp-td-clicks-v1_0.20090501.gz', compression='gzip', header=0, sep=',', quotechar='\"')\n",
    "data_raw = np.array(df_raw)"
   ]
  },
  {
   "cell_type": "code",
   "execution_count": null,
   "metadata": {},
   "outputs": [],
   "source": [
    "# extract user information\n",
    "\n",
    "history_users = np.array([ extract2(data_raw[i])['user_feature'] for i in range(data_raw.shape[0])  ])\n",
    "print(history_users.shape)\n"
   ]
  },
  {
   "cell_type": "code",
   "execution_count": null,
   "metadata": {},
   "outputs": [],
   "source": [
    "history_users = pd.DataFrame(history_users)"
   ]
  },
  {
   "cell_type": "code",
   "execution_count": null,
   "metadata": {},
   "outputs": [],
   "source": [
    "history_users['roundID'] = np.arange(history_users.shape[0])\n"
   ]
  },
  {
   "cell_type": "code",
   "execution_count": null,
   "metadata": {},
   "outputs": [],
   "source": [
    "# extract unique users\n",
    "df_users = history_users[ [0,1,2,3,4] ].drop_duplicates()"
   ]
  },
  {
   "cell_type": "code",
   "execution_count": null,
   "metadata": {},
   "outputs": [],
   "source": [
    "# make user ID\n",
    "print(df_users.shape)\n",
    "df_users['userID'] = np.arange(df_users.shape[0])\n",
    "print(df_users)"
   ]
  },
  {
   "cell_type": "code",
   "execution_count": null,
   "metadata": {},
   "outputs": [],
   "source": [
    "pd.DataFrame(history_users).head()"
   ]
  },
  {
   "cell_type": "code",
   "execution_count": null,
   "metadata": {},
   "outputs": [],
   "source": [
    "history_users_with_id = history_users.merge(df_users, on=[0, 1, 2, 3, 4], how=\"outer\")"
   ]
  },
  {
   "cell_type": "code",
   "execution_count": null,
   "metadata": {},
   "outputs": [],
   "source": [
    "history_users_with_id = history_users_with_id.sort_values(by=['roundID'])"
   ]
  },
  {
   "cell_type": "code",
   "execution_count": null,
   "metadata": {},
   "outputs": [],
   "source": [
    "print(history_users_with_id)"
   ]
  },
  {
   "cell_type": "code",
   "execution_count": null,
   "metadata": {},
   "outputs": [],
   "source": [
    "user_freqs = history_users_with_id['userID'].value_counts(normalize=False,sort=True)\n",
    "user_freqs_IDs = np.array(list(user_freqs.index))\n",
    "user_freqs = np.array(user_freqs)"
   ]
  },
  {
   "cell_type": "code",
   "execution_count": null,
   "metadata": {},
   "outputs": [],
   "source": [
    "#extract user IDs which appear more than 50 times\n",
    "\n",
    "USER_THRESHOLD = 50\n",
    "USER_NUM = sum( user_freqs >= USER_THRESHOLD )\n",
    "user_top_IDs = user_freqs_IDs[:USER_NUM]"
   ]
  },
  {
   "cell_type": "code",
   "execution_count": null,
   "metadata": {},
   "outputs": [],
   "source": [
    "history_users_with_id_reduced = history_users_with_id.loc[np.isin(history_users_with_id['userID'], user_top_IDs)]\n",
    "print(history_users_with_id_reduced)\n",
    "print(history_users_with_id_reduced.shape)\n",
    "df_users_reduced = df_users.loc[np.isin(df_users['userID'], user_top_IDs)]\n",
    "metadata_users_reduced = df_users_reduced.merge(pd.DataFrame({'userID':user_freqs_IDs, 'freq':user_freqs}), on='userID', how=\"inner\" )\n",
    "print(metadata_users_reduced.shape )\n",
    "print(metadata_users_reduced.head())"
   ]
  },
  {
   "cell_type": "code",
   "execution_count": null,
   "metadata": {},
   "outputs": [],
   "source": [
    "real_data_dir = current_dir + \"/\" + \"preproc_output\"\n",
    "\n",
    "if not os.path.exists(real_data_dir):\n",
    "    os.makedirs(real_data_dir)"
   ]
  },
  {
   "cell_type": "code",
   "execution_count": null,
   "metadata": {},
   "outputs": [],
   "source": [
    "history_users_with_id_reduced.to_csv(real_data_dir+'/history_users_thr'+str(USER_THRESHOLD)+'_1.csv')\n",
    "metadata_users_reduced.to_csv(real_data_dir+'/metadata_users_thr'+str(USER_THRESHOLD)+'.csv')"
   ]
  },
  {
   "cell_type": "code",
   "execution_count": null,
   "metadata": {},
   "outputs": [],
   "source": [
    "# create laplacian matrix based on distance and RBF kernel\n",
    "rbfmat = rbf_kernel( np.array(metadata_users_reduced)[:,:5] , gamma = 5) "
   ]
  },
  {
   "cell_type": "code",
   "execution_count": null,
   "metadata": {},
   "outputs": [],
   "source": [
    "(rbfmat > 0.03).sum() / metadata_users_reduced.shape[0]**2"
   ]
  },
  {
   "cell_type": "code",
   "execution_count": null,
   "metadata": {},
   "outputs": [],
   "source": [
    "np.save(real_data_dir+\"/adjmtx_thr50_sp50percent.npy\", (rbfmat > 0.03).astype(int))"
   ]
  },
  {
   "cell_type": "code",
   "execution_count": null,
   "metadata": {},
   "outputs": [],
   "source": [
    "for i in range(2,11):\n",
    "    if i<10:\n",
    "        file='ydata-fp-td-clicks-v1_0.2009050'+str(i)+'.gz'\n",
    "    else:\n",
    "        file='ydata-fp-td-clicks-v1_0.200905'+str(i)+'.gz'\n",
    "\n",
    "    df_raw = pd.read_csv(file, compression='gzip', header=0, sep=',', quotechar='\"')\n",
    "\n",
    "    data_raw = np.array(df_raw)\n",
    "\n",
    "    history_users = np.array([ extract2(data_raw[i])['user_feature'] for i in range(data_raw.shape[0])  ])\n",
    "\n",
    "    history_users = pd.DataFrame(history_users)\n",
    "\n",
    "    history_users['roundID'] = np.arange(history_users.shape[0])\n",
    "\n",
    "    history_users_with_id = history_users.merge(df_users, on=[0, 1, 2, 3, 4], how=\"outer\")\n",
    "\n",
    "    history_users_with_id = history_users_with_id.sort_values(by=['roundID'])\n",
    "\n",
    "    history_users_with_id_reduced = history_users_with_id.loc[np.isin(history_users_with_id['userID'], user_top_IDs)]\n",
    "\n",
    "    history_users_with_id_reduced.to_csv(real_data_dir+'/history_users_thr'+str(USER_THRESHOLD)+'_'+str(i)+'.csv')"
   ]
  }
 ],
 "metadata": {
  "kernelspec": {
   "display_name": "Python 3 (ipykernel)",
   "language": "python",
   "name": "python3"
  },
  "language_info": {
   "codemirror_mode": {
    "name": "ipython",
    "version": 3
   },
   "file_extension": ".py",
   "mimetype": "text/x-python",
   "name": "python",
   "nbconvert_exporter": "python",
   "pygments_lexer": "ipython3",
   "version": "3.8.0"
  }
 },
 "nbformat": 4,
 "nbformat_minor": 4
}
